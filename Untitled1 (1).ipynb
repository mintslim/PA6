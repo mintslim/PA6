{
 "cells": [
  {
   "cell_type": "code",
   "execution_count": 3,
   "id": "07f44024",
   "metadata": {},
   "outputs": [
    {
     "name": "stdout",
     "output_type": "stream",
     "text": [
      "Enter length of first side: 3\n",
      "Enter length of second side: 4\n",
      "Enter length of third side: 5\n",
      "Area of the triangle is: 6.0 square units\n",
      "Perimeter of the triangle is: 12.0 linear units\n"
     ]
    }
   ],
   "source": [
    "import math\n",
    "\n",
    "def calcArea(side1=1, side2=1, side3=1):\n",
    "    s = (side1 + side2 + side3) / 2\n",
    "    area = math.sqrt(s * (s - side1) * (s - side2) * (s - side3))\n",
    "    return area\n",
    "\n",
    "def calcPerimeter(side1=1, side2=1, side3=1):\n",
    "    perimeter = side1 + side2 + side3\n",
    "    return perimeter\n",
    "\n",
    "side1 = float(input(\"Enter length of first side: \"))\n",
    "side2 = float(input(\"Enter length of second side: \"))\n",
    "side3 = float(input(\"Enter length of third side: \"))\n",
    "\n",
    "area = calcArea(side1, side2, side3)\n",
    "perimeter = calcPerimeter(side1, side2, side3)\n",
    "\n",
    "print(\"Area of the triangle is:\", area,\"square units\")\n",
    "print(\"Perimeter of the triangle is:\", perimeter,\"linear units\")\n",
    "\n",
    "\n"
   ]
  },
  {
   "cell_type": "code",
   "execution_count": 4,
   "id": "30ba2e73",
   "metadata": {},
   "outputs": [
    {
     "name": "stdout",
     "output_type": "stream",
     "text": [
      "Guess a number between 1 and 1000: 67\n",
      "Too low! Guess again!\n",
      "Guess a number between 1 and 1000: 500\n",
      "Too high! Guess again!\n",
      "Guess a number between 1 and 1000: 180\n",
      "Too high! Guess again!\n",
      "Guess a number between 1 and 1000: 90\n",
      "Too low! Guess again!\n",
      "Guess a number between 1 and 1000: 120\n",
      "Too high! Guess again!\n",
      "Guess a number between 1 and 1000: 100\n",
      "Too high! Guess again!\n",
      "Guess a number between 1 and 1000: 95\n",
      "Too high! Guess again!\n",
      "Guess a number between 1 and 1000: 93\n",
      "Too low! Guess again!\n",
      "Guess a number between 1 and 1000: 94\n",
      "Correct!\n"
     ]
    }
   ],
   "source": [
    "import random\n",
    "\n",
    "def evaluateGuess(guess, number):\n",
    "    if guess < number:\n",
    "        return \"Too low! Guess again!\"\n",
    "    elif guess > number:\n",
    "        return \"Too high! Guess again!\"\n",
    "    else:\n",
    "        return \"Correct!\"\n",
    "\n",
    "number = random.randint(1, 1000)\n",
    "\n",
    "while True:\n",
    "    guess = int(input(\"Guess a number between 1 and 1000: \"))\n",
    "    result = evaluateGuess(guess, number)\n",
    "    print(result)\n",
    "    if result == \"Correct!\":\n",
    "        break"
   ]
  },
  {
   "cell_type": "code",
   "execution_count": 5,
   "id": "3d0a2b5a",
   "metadata": {},
   "outputs": [
    {
     "name": "stdout",
     "output_type": "stream",
     "text": [
      "The mean temperature over 5 days is 69.8°F.\n"
     ]
    }
   ],
   "source": [
    "def meanTemp(*temps):\n",
    "    total = sum(temps)\n",
    "    count = len(temps)\n",
    "    mean = total / count\n",
    "    return mean\n",
    "\n",
    "# Example usage\n",
    "temps = [68, 72, 74, 70, 65]\n",
    "mean = meanTemp(*temps)\n",
    "print(f\"The mean temperature over {len(temps)} days is {mean:.1f}°F.\")\n"
   ]
  },
  {
   "cell_type": "code",
   "execution_count": null,
   "id": "498efb34",
   "metadata": {},
   "outputs": [],
   "source": []
  }
 ],
 "metadata": {
  "kernelspec": {
   "display_name": "Python 3 (ipykernel)",
   "language": "python",
   "name": "python3"
  },
  "language_info": {
   "codemirror_mode": {
    "name": "ipython",
    "version": 3
   },
   "file_extension": ".py",
   "mimetype": "text/x-python",
   "name": "python",
   "nbconvert_exporter": "python",
   "pygments_lexer": "ipython3",
   "version": "3.9.13"
  }
 },
 "nbformat": 4,
 "nbformat_minor": 5
}
